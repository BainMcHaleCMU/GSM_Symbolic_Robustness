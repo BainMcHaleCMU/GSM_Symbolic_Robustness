{
 "cells": [
  {
   "cell_type": "code",
   "execution_count": null,
   "metadata": {
    "executionInfo": {
     "elapsed": 136,
     "status": "ok",
     "timestamp": 1732931035836,
     "user": {
      "displayName": "Shamika Dhuri",
      "userId": "12251149766036151772"
     },
     "user_tz": 300
    },
    "id": "44OTwqiFshUf"
   },
   "outputs": [],
   "source": [
    "API_KEY = \"ADD API KEY HERE\""
   ]
  },
  {
   "cell_type": "code",
   "execution_count": 9,
   "metadata": {
    "colab": {
     "base_uri": "https://localhost:8080/"
    },
    "executionInfo": {
     "elapsed": 1132,
     "status": "ok",
     "timestamp": 1732931623819,
     "user": {
      "displayName": "Shamika Dhuri",
      "userId": "12251149766036151772"
     },
     "user_tz": 300
    },
    "id": "GKYjfcDXwR3d",
    "outputId": "7f4dbc64-f0c6-443f-fe36-cd284a6d1f53"
   },
   "outputs": [
    {
     "name": "stdout",
     "output_type": "stream",
     "text": [
      "Drive already mounted at /content/drive; to attempt to forcibly remount, call drive.mount(\"/content/drive\", force_remount=True).\n",
      "/content/drive/MyDrive/sem 3 code/GSM_Symbolic_Robustness-main/dataset/gsm_symbolic\n"
     ]
    }
   ],
   "source": [
    "#connect to drive\n",
    "from google.colab import drive\n",
    "drive.mount('/content/drive')\n",
    "%cd /content/drive/MyDrive/sem 3 code/GSM_Symbolic_Robustness-main/dataset/gsm_symbolic"
   ]
  },
  {
   "cell_type": "code",
   "execution_count": 48,
   "metadata": {
    "executionInfo": {
     "elapsed": 129,
     "status": "ok",
     "timestamp": 1732935485505,
     "user": {
      "displayName": "Shamika Dhuri",
      "userId": "12251149766036151772"
     },
     "user_tz": 300
    },
    "id": "Di_hNdmqtNWu"
   },
   "outputs": [],
   "source": [
    "import os\n",
    "from openai import OpenAI\n",
    "import json"
   ]
  },
  {
   "cell_type": "code",
   "execution_count": null,
   "metadata": {
    "colab": {
     "base_uri": "https://localhost:8080/"
    },
    "executionInfo": {
     "elapsed": 117,
     "status": "ok",
     "timestamp": 1732934972864,
     "user": {
      "displayName": "Shamika Dhuri",
      "userId": "12251149766036151772"
     },
     "user_tz": 300
    },
    "id": "y49cDTAvs4xm",
    "outputId": "6e8ff360-7813-49fb-fee5-0ed46d49cf87"
   },
   "outputs": [
    {
     "name": "stdout",
     "output_type": "stream",
     "text": [
      "{\"question\": \"Josh decides to try flipping a house.  He buys a house for $80,000 and then puts in $50,000 in repairs.  This increased the value of the house by 150%.  How much profit did he make?\", \"answer\": \"The cost of the house and repairs came out to 80,000+50,000=$<<80000+50000=130000>>130,000\\nHe increased the value of the house by 80,000*1.5=<<80000*1.5=120000>>120,000\\nSo the new value of the house is 120,000+80,000=$<<120000+80000=200000>>200,000\\nSo he made a profit of 200,000-130,000=$<<200000-130000=70000>>70,000\\n#### 70000\"}\n",
      "\n"
     ]
    }
   ],
   "source": [
    "#get prompt from prompt.txt\n",
    "with open('prompt_files/prompt.txt', 'r') as f:\n",
    "    prompt = f.readlines()\n",
    "prompt = \"\\n\".join(prompt)\n",
    "\n",
    "with open('../datasets/unedited_100.jsonl', 'r') as f:\n",
    "    qs = f.readlines()\n",
    "print(qs[1])\n"
   ]
  },
  {
   "cell_type": "code",
   "execution_count": 43,
   "metadata": {
    "colab": {
     "base_uri": "https://localhost:8080/"
    },
    "executionInfo": {
     "elapsed": 151,
     "status": "ok",
     "timestamp": 1732934862047,
     "user": {
      "displayName": "Shamika Dhuri",
      "userId": "12251149766036151772"
     },
     "user_tz": 300
    },
    "id": "s5S5BjKY1Cr4",
    "outputId": "d4e344bf-500f-4499-922a-b0b902fa81c7"
   },
   "outputs": [
    {
     "name": "stdout",
     "output_type": "stream",
     "text": [
      "Josh decides to try flipping a house.  He buys a house for $80,000 and then puts in $50,000 in repairs.  This increased the value of the house by 150%.  How much profit did he make?\n",
      "The cost of the house and repairs came out to 80,000+50,000=$<<80000+50000=130000>>130,000\n",
      "He increased the value of the house by 80,000*1.5=<<80000*1.5=120000>>120,000\n",
      "So the new value of the house is 120,000+80,000=$<<120000+80000=200000>>200,000\n",
      "So he made a profit of 200,000-130,000=$<<200000-130000=70000>>70,000\n",
      "#### 70000\n"
     ]
    }
   ],
   "source": [
    "temp = eval(qs[1])\n",
    "print(temp['question'])\n"
   ]
  },
  {
   "cell_type": "code",
   "execution_count": 2,
   "metadata": {
    "colab": {
     "base_uri": "https://localhost:8080/"
    },
    "executionInfo": {
     "elapsed": 158,
     "status": "ok",
     "timestamp": 1732930919596,
     "user": {
      "displayName": "Shamika Dhuri",
      "userId": "12251149766036151772"
     },
     "user_tz": 300
    },
    "id": "_ahEg-rnuopq",
    "outputId": "8c617aa9-203e-4a61-bed6-b8178f0344b7"
   },
   "outputs": [
    {
     "name": "stdout",
     "output_type": "stream",
     "text": [
      "Target Question:\n",
      "{\"question\": \"\n"
     ]
    }
   ],
   "source": [
    "print('Target Question:\\n{\"question\": \"')"
   ]
  },
  {
   "cell_type": "code",
   "execution_count": 46,
   "metadata": {
    "executionInfo": {
     "elapsed": 117,
     "status": "ok",
     "timestamp": 1732934978263,
     "user": {
      "displayName": "Shamika Dhuri",
      "userId": "12251149766036151772"
     },
     "user_tz": 300
    },
    "id": "I63l-XmCtPj7"
   },
   "outputs": [],
   "source": [
    "def get_num_annotated(target_question, API_KEY = API_KEY, prompt = prompt):\n",
    "  os.environ[\"OPENAI_API_KEY\"] = API_KEY\n",
    "  client = OpenAI()\n",
    "  response = client.chat.completions.create(\n",
    "      model=\"gpt-4o-mini\",\n",
    "      messages=[\n",
    "          {\"role\": \"system\", \"content\": prompt},\n",
    "          {\"role\": \"user\", \"content\": 'Target Question:\\n{\"question\": \"'+ target_question +'\"}'}\n",
    "      ]\n",
    "  )\n",
    "  return(response.choices[0].message.content)"
   ]
  },
  {
   "cell_type": "code",
   "execution_count": null,
   "metadata": {
    "executionInfo": {
     "elapsed": 473990,
     "status": "ok",
     "timestamp": 1732936135464,
     "user": {
      "displayName": "Shamika Dhuri",
      "userId": "12251149766036151772"
     },
     "user_tz": 300
    },
    "id": "VG1ZIOgX99jp"
   },
   "outputs": [],
   "source": [
    "with open(\"../datasets/annotated_100_nums.jsonl\", \"w\") as f:\n",
    "    for question in qs:\n",
    "        target_question = eval(question)['question']\n",
    "        annotated = get_num_annotated(target_question)\n",
    "        f.write(annotated+\"\\n\")"
   ]
  }
 ],
 "metadata": {
  "colab": {
   "authorship_tag": "ABX9TyP9Eqs8yabaofZyIyWoDkYA",
   "provenance": []
  },
  "kernelspec": {
   "display_name": "Python 3",
   "name": "python3"
  },
  "language_info": {
   "name": "python",
   "version": "3.11.4"
  }
 },
 "nbformat": 4,
 "nbformat_minor": 0
}
