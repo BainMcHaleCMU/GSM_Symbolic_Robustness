{
 "cells": [
  {
   "cell_type": "markdown",
   "metadata": {},
   "source": [
    "# Fill in the names"
   ]
  },
  {
   "cell_type": "code",
   "execution_count": 65,
   "metadata": {},
   "outputs": [],
   "source": [
    "import pandas as pd\n",
    "import numpy as np\n",
    "import json\n",
    "templates = pd.read_json('../templates/name_number_templates.jsonl', lines=True)\n",
    "fillable_vals = json.load(open('name_tags.json'))"
   ]
  },
  {
   "cell_type": "markdown",
   "metadata": {},
   "source": [
    "person names"
   ]
  },
  {
   "cell_type": "code",
   "execution_count": 66,
   "metadata": {},
   "outputs": [],
   "source": [
    "for i in range(len(templates['question'])):\n",
    "    # there are at most 5 people\n",
    "    names = np.random.choice(fillable_vals['persons'], 5, replace=False)\n",
    "    q = templates['question'][i]\n",
    "    for j in range(1, 6):\n",
    "        tag  = '{person' + str(j) + '}'\n",
    "        q = q.replace(tag, names[j-1])\n",
    "    templates['question'][i] = q"
   ]
  },
  {
   "cell_type": "markdown",
   "metadata": {},
   "source": [
    "places"
   ]
  },
  {
   "cell_type": "code",
   "execution_count": 67,
   "metadata": {},
   "outputs": [],
   "source": [
    "for i in range(len(templates['question'])):\n",
    "    # there are at most 3 places\n",
    "    names = np.random.choice(fillable_vals['places'], 3, replace=False)\n",
    "    q = templates['question'][i]\n",
    "    for j in range(1, 4):\n",
    "        tag  = '{place' + str(j) + '}'\n",
    "        q = q.replace(tag, names[j-1])\n",
    "    templates['question'][i] = q"
   ]
  },
  {
   "cell_type": "markdown",
   "metadata": {},
   "source": [
    "Update foods"
   ]
  },
  {
   "cell_type": "code",
   "execution_count": 68,
   "metadata": {},
   "outputs": [],
   "source": [
    "for i in range(len(templates['question'])):\n",
    "    # there are at most 4 foods\n",
    "    names = np.random.choice(fillable_vals['foods'], 4, replace=False)\n",
    "    q = templates['question'][i]\n",
    "    for j in range(1, 5):\n",
    "        tag  = '{food' + str(j) + '}'\n",
    "        q = q.replace(tag, names[j-1])\n",
    "    templates['question'][i] = q"
   ]
  },
  {
   "cell_type": "markdown",
   "metadata": {},
   "source": [
    "Update Currencies"
   ]
  },
  {
   "cell_type": "code",
   "execution_count": 69,
   "metadata": {},
   "outputs": [],
   "source": [
    "for i in range(len(templates['question'])):\n",
    "    # there are at most 4 foods\n",
    "    names = np.random.choice(fillable_vals['currencies'], 1, replace=False)\n",
    "    q = templates['question'][i]\n",
    "    for j in range(1, 2):\n",
    "        tag  = '{currencysymbol' + str(j) + '}'\n",
    "        q = q.replace(tag, names[j-1])\n",
    "    templates['question'][i] = q"
   ]
  },
  {
   "cell_type": "code",
   "execution_count": 70,
   "metadata": {},
   "outputs": [
    {
     "data": {
      "text/plain": [
       "\"Lily’s ducks lay {x} eggs per day. Lily eats {y} for breakfast every morning and bakes muffins for her friends every day with {z}. Lily sells the remainder at the farmers' market daily for ₩{d} per fresh duck egg. How much in dollars does Lily make every day at the farmers' market?\""
      ]
     },
     "execution_count": 70,
     "metadata": {},
     "output_type": "execute_result"
    }
   ],
   "source": [
    "templates['question'][0]"
   ]
  },
  {
   "cell_type": "markdown",
   "metadata": {},
   "source": [
    "# Fill in the numbers"
   ]
  },
  {
   "cell_type": "code",
   "execution_count": 71,
   "metadata": {},
   "outputs": [],
   "source": [
    "# note there are only 20 annotated number samples\n",
    "number_templates = templates.head(20)"
   ]
  },
  {
   "cell_type": "code",
   "execution_count": 72,
   "metadata": {},
   "outputs": [],
   "source": [
    "import os\n",
    "from openai import OpenAI\n",
    "import pandas as pd\n",
    "import json\n",
    "\n",
    "# set prompt\n",
    "with open('prompt_files/fill_in_numbers_prompt.txt', 'r') as file:\n",
    "    system_prompt = file.read()\n",
    "\n",
    "suffix = \"\\n\\nYour output should strictly be a json object mapping the inputs to outputs. It should be in the format of {variable1: value, variable2: value, ...}\"\n",
    "\n",
    "# get API key\n",
    "with open('prompt_files/openai_key.txt', 'r') as file:\n",
    "    API_KEY = file.read().strip()\n",
    "\n",
    "def get_variables(target_question, API_KEY = API_KEY, prompt = system_prompt, suffix = suffix):\n",
    "  os.environ[\"OPENAI_API_KEY\"] = API_KEY\n",
    "  client = OpenAI()\n",
    "  response = client.chat.completions.create(\n",
    "      model=\"gpt-4o-mini\",\n",
    "      messages=[\n",
    "          {\"role\": \"system\", \"content\": prompt},\n",
    "          {\"role\": \"user\", \"content\": target_question + suffix},\n",
    "      ]\n",
    "  )\n",
    "  answer = response.choices[0].message.content\n",
    "  return answer"
   ]
  },
  {
   "cell_type": "code",
   "execution_count": 73,
   "metadata": {},
   "outputs": [],
   "source": [
    "def valid_output(constraints, vars):\n",
    "    keys = vars.keys()\n",
    "    # go in this order to avoid partial matching of future keys\n",
    "    sorted_keys = sorted(keys, key=lambda x: len(x), reverse=True)\n",
    "    for constraint in constraints:\n",
    "        original_constraint = constraint\n",
    "        for key in sorted_keys:\n",
    "            constraint = constraint.replace(key, str(vars[key]))\n",
    "        if not eval(constraint):\n",
    "            print(\"Failed constraint: \", original_constraint, \"with\", constraint)\n",
    "            return False\n",
    "    return True"
   ]
  },
  {
   "cell_type": "code",
   "execution_count": 74,
   "metadata": {},
   "outputs": [],
   "source": [
    "def replace_vars(query, answer, vars):\n",
    "    for key in vars:\n",
    "        query = query.replace('{' + key + '}', str(vars[key]))\n",
    "        answer = answer.replace('{' + key + '}', str(vars[key]))\n",
    "        # answer = answer.replace(key, str(vars[key]))\n",
    "    return query, answer"
   ]
  },
  {
   "cell_type": "code",
   "execution_count": 75,
   "metadata": {},
   "outputs": [],
   "source": [
    "completed_cache = set() # useful for debugging"
   ]
  },
  {
   "cell_type": "code",
   "execution_count": 76,
   "metadata": {},
   "outputs": [
    {
     "name": "stdout",
     "output_type": "stream",
     "text": [
      "0\n",
      "1\n",
      "2\n",
      "3\n",
      "4\n",
      "5\n",
      "6\n",
      "7\n",
      "8\n",
      "9\n",
      "10\n",
      "11\n",
      "Failed constraint:  a % f ==  0 with 100 % 30 ==  0\n",
      "didn't meet constraints. retrying\n",
      "12\n",
      "13\n",
      "14\n",
      "15\n",
      "Failed constraint:  d == a * 7 with 14 == 1 * 7\n",
      "didn't meet constraints. retrying\n",
      "Failed constraint:  d == a * 7 with 14 == 1 * 7\n",
      "didn't meet constraints. retrying\n",
      "Failed constraint:  d == a * 7 with 14 == 1 * 7\n",
      "didn't meet constraints. retrying\n",
      "16\n",
      "Failed constraint:  i == h / g with 1 == 15 / 11\n",
      "didn't meet constraints. retrying\n",
      "Failed constraint:  i == h / g with 1 == 15 / 11\n",
      "didn't meet constraints. retrying\n",
      "Failed constraint:  g == d - b - b with 8 == 10 - 2 - 2\n",
      "didn't meet constraints. retrying\n",
      "17\n",
      "Failed constraint:  f == c - e with 5 == 20 - 25\n",
      "didn't meet constraints. retrying\n",
      "18\n",
      "Failed constraint:  c == d - a - b with 0 == 3 - 1 - 1\n",
      "didn't meet constraints. retrying\n",
      "19\n"
     ]
    }
   ],
   "source": [
    "max_retries = 10\n",
    "for i in range(len(number_templates)):\n",
    "    if i in completed_cache:\n",
    "        continue\n",
    "    print(i)\n",
    "    query = str(number_templates.iloc[i].to_dict())\n",
    "    num_retries = 0\n",
    "    while num_retries < max_retries:\n",
    "        vars = get_variables(query)\n",
    "        try:\n",
    "            vars = json.loads(vars.strip('```').replace('json', '').strip())\n",
    "        except:\n",
    "            print(\"invalid json. retrying\")\n",
    "            num_retries += 1\n",
    "            continue\n",
    "        if valid_output(number_templates.iloc[i]['constraints'], vars):\n",
    "            q, ans = replace_vars(number_templates.iloc[i]['question'], number_templates.iloc[i]['answer'], vars)\n",
    "            number_templates.iloc[i]['question'] = q\n",
    "            number_templates.iloc[i]['answer'] = ans\n",
    "            completed_cache.add(i)\n",
    "            break\n",
    "        else:\n",
    "            print(\"didn't meet constraints. retrying\")\n",
    "            num_retries += 1\n",
    "    if num_retries == max_retries:\n",
    "        print(\"Failed to generate valid output for template \" + str(i))"
   ]
  },
  {
   "cell_type": "code",
   "execution_count": 77,
   "metadata": {},
   "outputs": [],
   "source": [
    "number_templates.to_json('../datasets/gsm_name_numbers.jsonl', orient='records', lines=True)"
   ]
  }
 ],
 "metadata": {
  "kernelspec": {
   "display_name": "Python 3",
   "language": "python",
   "name": "python3"
  },
  "language_info": {
   "codemirror_mode": {
    "name": "ipython",
    "version": 3
   },
   "file_extension": ".py",
   "mimetype": "text/x-python",
   "name": "python",
   "nbconvert_exporter": "python",
   "pygments_lexer": "ipython3",
   "version": "3.11.4"
  }
 },
 "nbformat": 4,
 "nbformat_minor": 2
}
