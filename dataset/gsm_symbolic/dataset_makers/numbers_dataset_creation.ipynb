{
 "cells": [
  {
   "cell_type": "markdown",
   "metadata": {},
   "source": [
    "Load in the values"
   ]
  },
  {
   "cell_type": "code",
   "execution_count": null,
   "metadata": {},
   "outputs": [],
   "source": [
    "import pandas as pd\n",
    "number_templates = pd.read_json('../templates/number_templates.jsonl', lines=True)\n",
    "number_templates = number_templates.head(20)"
   ]
  },
  {
   "cell_type": "markdown",
   "metadata": {},
   "source": [
    "Helper function to query openai"
   ]
  },
  {
   "cell_type": "code",
   "execution_count": null,
   "metadata": {},
   "outputs": [],
   "source": [
    "import os\n",
    "from openai import OpenAI\n",
    "import pandas as pd\n",
    "import json\n",
    "\n",
    "# set prompt\n",
    "with open('prompt_files/fill_in_numbers_prompt.txt', 'r') as file:\n",
    "    system_prompt = file.read()\n",
    "\n",
    "suffix = \"\\n\\nYour output should strictly be a json object mapping the inputs to outputs. It should be in the format of {variable1: value, variable2: value, ...}\"\n",
    "\n",
    "# get API key\n",
    "with open('prompt_files/openai_key.txt', 'r') as file:\n",
    "    API_KEY = file.read().strip()\n",
    "\n",
    "def get_variables(target_question, API_KEY = API_KEY, prompt = system_prompt, suffix = suffix):\n",
    "  os.environ[\"OPENAI_API_KEY\"] = API_KEY\n",
    "  client = OpenAI()\n",
    "  response = client.chat.completions.create(\n",
    "      model=\"gpt-4o-mini\",\n",
    "      messages=[\n",
    "          {\"role\": \"system\", \"content\": prompt},\n",
    "          {\"role\": \"user\", \"content\": target_question + suffix},\n",
    "      ]\n",
    "  )\n",
    "  answer = response.choices[0].message.content\n",
    "  return answer"
   ]
  },
  {
   "cell_type": "code",
   "execution_count": 3,
   "metadata": {},
   "outputs": [],
   "source": [
    "def valid_output(constraints, vars):\n",
    "    keys = vars.keys()\n",
    "    # go in this order to avoid partial matching of future keys\n",
    "    sorted_keys = sorted(keys, key=lambda x: len(x), reverse=True)\n",
    "    for constraint in constraints:\n",
    "        original_constraint = constraint\n",
    "        for key in sorted_keys:\n",
    "            constraint = constraint.replace(key, str(vars[key]))\n",
    "        if not eval(constraint):\n",
    "            print(\"Failed constraint: \", original_constraint, \"with\", constraint)\n",
    "            return False\n",
    "    return True"
   ]
  },
  {
   "cell_type": "code",
   "execution_count": 4,
   "metadata": {},
   "outputs": [],
   "source": [
    "def replace_vars(query, answer, vars):\n",
    "    for key in vars:\n",
    "        query = query.replace('{' + key + '}', str(vars[key]))\n",
    "        answer = answer.replace('{' + key + '}', str(vars[key]))\n",
    "        # answer = answer.replace(key, str(vars[key]))\n",
    "    return query, answer"
   ]
  },
  {
   "cell_type": "markdown",
   "metadata": {},
   "source": [
    "## Toy Example"
   ]
  },
  {
   "cell_type": "code",
   "execution_count": 55,
   "metadata": {},
   "outputs": [
    {
     "name": "stdout",
     "output_type": "stream",
     "text": [
      "{'a': 10, 'b': 3, 'c': 2, 'd': 5, 'e': 5, 'f': 25, 'x': 10, 'y': 3, 'z': 2}\n"
     ]
    }
   ],
   "source": [
    "query = str(number_templates.iloc[0].to_dict())\n",
    "vars = get_variables(query)\n",
    "vars = json.loads(vars)\n",
    "print(vars)"
   ]
  },
  {
   "cell_type": "code",
   "execution_count": 56,
   "metadata": {},
   "outputs": [
    {
     "data": {
      "text/plain": [
       "True"
      ]
     },
     "execution_count": 56,
     "metadata": {},
     "output_type": "execute_result"
    }
   ],
   "source": [
    "valid_output(number_templates.iloc[0]['constraints'], vars)"
   ]
  },
  {
   "cell_type": "code",
   "execution_count": 57,
   "metadata": {},
   "outputs": [
    {
     "data": {
      "text/plain": [
       "(\"Janet’s ducks lay 10 eggs per day. Janet eats 3 for breakfast every morning and bakes muffins for her friends every day with 2. Janet sells the remainder at the farmers' market daily for $5 per fresh duck egg. How much in dollars does Janet make every day at the farmers' market?\",\n",
       " 'Janet sells 10 - 3 - 2 = <<10 - 3 - 2 = 5>>e duck eggs a day.\\nShe makes 5 * 5 = $<<5 * 5 = 25>>f every day at the farmer’s market.\\n#### 25')"
      ]
     },
     "execution_count": 57,
     "metadata": {},
     "output_type": "execute_result"
    }
   ],
   "source": [
    "replace_vars(number_templates.iloc[0]['question'], number_templates.iloc[0]['answer'], vars)"
   ]
  },
  {
   "cell_type": "markdown",
   "metadata": {},
   "source": [
    "## Execute on all samples"
   ]
  },
  {
   "cell_type": "markdown",
   "metadata": {},
   "source": [
    "#### Debugging Stuff"
   ]
  },
  {
   "cell_type": "code",
   "execution_count": 69,
   "metadata": {},
   "outputs": [
    {
     "data": {
      "text/plain": [
       "{'a': 20, 'b': 25, 'c': 20}"
      ]
     },
     "execution_count": 69,
     "metadata": {},
     "output_type": "execute_result"
    }
   ],
   "source": [
    "vars"
   ]
  },
  {
   "cell_type": "code",
   "execution_count": 42,
   "metadata": {},
   "outputs": [
    {
     "data": {
      "text/plain": [
       "['a > 0',\n",
       " 'b > 0',\n",
       " 'x > 0',\n",
       " 'y > 0',\n",
       " 'p1 == a * (x / 100)',\n",
       " 'p2 == b * (y / 100)',\n",
       " 'max_profit == max(p1, p2)']"
      ]
     },
     "execution_count": 42,
     "metadata": {},
     "output_type": "execute_result"
    }
   ],
   "source": [
    "number_templates.iloc[i]['constraints']"
   ]
  },
  {
   "cell_type": "code",
   "execution_count": 43,
   "metadata": {},
   "outputs": [
    {
     "ename": "NameError",
     "evalue": "name 'm10020' is not defined",
     "output_type": "error",
     "traceback": [
      "\u001b[0;31m---------------------------------------------------------------------------\u001b[0m",
      "\u001b[0;31mNameError\u001b[0m                                 Traceback (most recent call last)",
      "\u001b[0;32m<ipython-input-43-3885912609cc>\u001b[0m in \u001b[0;36m<module>\u001b[0;34m\u001b[0m\n\u001b[0;32m----> 1\u001b[0;31m \u001b[0mvalid_output\u001b[0m\u001b[0;34m(\u001b[0m\u001b[0mnumber_templates\u001b[0m\u001b[0;34m.\u001b[0m\u001b[0miloc\u001b[0m\u001b[0;34m[\u001b[0m\u001b[0mi\u001b[0m\u001b[0;34m]\u001b[0m\u001b[0;34m[\u001b[0m\u001b[0;34m'constraints'\u001b[0m\u001b[0;34m]\u001b[0m\u001b[0;34m,\u001b[0m \u001b[0mvars\u001b[0m\u001b[0;34m)\u001b[0m\u001b[0;34m\u001b[0m\u001b[0;34m\u001b[0m\u001b[0m\n\u001b[0m",
      "\u001b[0;32m<ipython-input-3-4044e52e0dca>\u001b[0m in \u001b[0;36mvalid_output\u001b[0;34m(constraints, vars)\u001b[0m\n\u001b[1;32m      7\u001b[0m         \u001b[0;32mfor\u001b[0m \u001b[0mkey\u001b[0m \u001b[0;32min\u001b[0m \u001b[0msorted_keys\u001b[0m\u001b[0;34m:\u001b[0m\u001b[0;34m\u001b[0m\u001b[0;34m\u001b[0m\u001b[0m\n\u001b[1;32m      8\u001b[0m             \u001b[0mconstraint\u001b[0m \u001b[0;34m=\u001b[0m \u001b[0mconstraint\u001b[0m\u001b[0;34m.\u001b[0m\u001b[0mreplace\u001b[0m\u001b[0;34m(\u001b[0m\u001b[0mkey\u001b[0m\u001b[0;34m,\u001b[0m \u001b[0mstr\u001b[0m\u001b[0;34m(\u001b[0m\u001b[0mvars\u001b[0m\u001b[0;34m[\u001b[0m\u001b[0mkey\u001b[0m\u001b[0;34m]\u001b[0m\u001b[0;34m)\u001b[0m\u001b[0;34m)\u001b[0m\u001b[0;34m\u001b[0m\u001b[0;34m\u001b[0m\u001b[0m\n\u001b[0;32m----> 9\u001b[0;31m         \u001b[0;32mif\u001b[0m \u001b[0;32mnot\u001b[0m \u001b[0meval\u001b[0m\u001b[0;34m(\u001b[0m\u001b[0mconstraint\u001b[0m\u001b[0;34m)\u001b[0m\u001b[0;34m:\u001b[0m\u001b[0;34m\u001b[0m\u001b[0;34m\u001b[0m\u001b[0m\n\u001b[0m\u001b[1;32m     10\u001b[0m             \u001b[0mprint\u001b[0m\u001b[0;34m(\u001b[0m\u001b[0;34m\"Failed constraint: \"\u001b[0m\u001b[0;34m,\u001b[0m \u001b[0moriginal_constraint\u001b[0m\u001b[0;34m,\u001b[0m \u001b[0;34m\"with\"\u001b[0m\u001b[0;34m,\u001b[0m \u001b[0mconstraint\u001b[0m\u001b[0;34m)\u001b[0m\u001b[0;34m\u001b[0m\u001b[0;34m\u001b[0m\u001b[0m\n\u001b[1;32m     11\u001b[0m             \u001b[0;32mreturn\u001b[0m \u001b[0;32mFalse\u001b[0m\u001b[0;34m\u001b[0m\u001b[0;34m\u001b[0m\u001b[0m\n",
      "\u001b[0;32m<string>\u001b[0m in \u001b[0;36m<module>\u001b[0;34m\u001b[0m\n",
      "\u001b[0;31mNameError\u001b[0m: name 'm10020' is not defined"
     ]
    }
   ],
   "source": [
    "valid_output(number_templates.iloc[i]['constraints'], vars)"
   ]
  },
  {
   "cell_type": "code",
   "execution_count": 44,
   "metadata": {},
   "outputs": [
    {
     "data": {
      "text/plain": [
       "'If he purchases jewelry, he will make a profit of {x}% which is ${a}*({x}/100) = $<<{a}*({x}/100)={p1}>>{p1}\\nIf he purchases electronic gadgets, he will make a profit of {y}% which is ${b}*({y}/100) = $<<{b}*({y}/100)={p2}>>{p2}\\nIf he wants to maximize profit, since max({p1}, {p2}) determines the better choice, he will choose the option with the higher profit, thereby making a profit of ${max_profit}\\n#### {max_profit}'"
      ]
     },
     "execution_count": 44,
     "metadata": {},
     "output_type": "execute_result"
    }
   ],
   "source": [
    "number_templates.iloc[i]['answer']"
   ]
  },
  {
   "cell_type": "code",
   "execution_count": 45,
   "metadata": {},
   "outputs": [
    {
     "data": {
      "text/plain": [
       "('A merchant wants to make a choice of purchase between 2 purchase plans: jewelry worth $100 or electronic gadgets worth $150. His financial advisor speculates that the jewelry market will go up 20% while the electronic gadgets market will rise 30% within the same month. If the merchant is looking to maximize profit at the end of this month by making a choice, how much profit would this be?',\n",
       " 'If he purchases jewelry, he will make a profit of 20% which is $100*(20/100) = $<<100*(20/100)=20.0>>20.0\\nIf he purchases electronic gadgets, he will make a profit of 30% which is $150*(30/100) = $<<150*(30/100)=45.0>>45.0\\nIf he wants to maximize profit, since max(20.0, 45.0) determines the better choice, he will choose the option with the higher profit, thereby making a profit of $45.0\\n#### 45.0')"
      ]
     },
     "execution_count": 45,
     "metadata": {},
     "output_type": "execute_result"
    }
   ],
   "source": [
    "replace_vars(number_templates.iloc[i]['question'], number_templates.iloc[i]['answer'], vars)"
   ]
  },
  {
   "cell_type": "markdown",
   "metadata": {},
   "source": [
    "# Do runs"
   ]
  },
  {
   "cell_type": "code",
   "execution_count": 5,
   "metadata": {},
   "outputs": [],
   "source": [
    "completed_cache = set() # useful for debugging"
   ]
  },
  {
   "cell_type": "code",
   "execution_count": null,
   "metadata": {},
   "outputs": [
    {
     "name": "stdout",
     "output_type": "stream",
     "text": [
      "16\n",
      "17\n",
      "Failed constraint:  f > 0 with 0 > 0\n",
      "didn't meet constraints. retrying\n",
      "18\n",
      "Failed constraint:  c > 0 with 0 > 0\n",
      "didn't meet constraints. retrying\n",
      "Failed constraint:  c > 0 with 0 > 0\n",
      "didn't meet constraints. retrying\n",
      "19\n"
     ]
    }
   ],
   "source": [
    "max_retries = 10\n",
    "for i in range(len(number_templates)):\n",
    "    if i in completed_cache:\n",
    "        continue\n",
    "    print(i)\n",
    "    query = str(number_templates.iloc[i].to_dict())\n",
    "    num_retries = 0\n",
    "    while num_retries < max_retries:\n",
    "        vars = get_variables(query)\n",
    "        try:\n",
    "            vars = json.loads(vars.strip('```').replace('json', '').strip())\n",
    "        except:\n",
    "            print(\"invalid json. retrying\")\n",
    "            num_retries += 1\n",
    "            continue\n",
    "        if valid_output(number_templates.iloc[i]['constraints'], vars):\n",
    "            q, ans = replace_vars(number_templates.iloc[i]['question'], number_templates.iloc[i]['answer'], vars)\n",
    "            number_templates.iloc[i]['question'] = q\n",
    "            number_templates.iloc[i]['answer'] = ans\n",
    "            completed_cache.add(i)\n",
    "            break\n",
    "        else:\n",
    "            print(\"didn't meet constraints. retrying\")\n",
    "            num_retries += 1\n",
    "    if num_retries == max_retries:\n",
    "        print(\"Failed to generate valid output for template \" + str(i))\n",
    "number_templates.to_json('../datasets/gsm_numbers.jsonl', orient='records', lines=True)"
   ]
  }
 ],
 "metadata": {
  "kernelspec": {
   "display_name": "Python 3",
   "language": "python",
   "name": "python3"
  },
  "language_info": {
   "codemirror_mode": {
    "name": "ipython",
    "version": 3
   },
   "file_extension": ".py",
   "mimetype": "text/x-python",
   "name": "python",
   "nbconvert_exporter": "python",
   "pygments_lexer": "ipython3",
   "version": "3.11.4"
  }
 },
 "nbformat": 4,
 "nbformat_minor": 2
}
