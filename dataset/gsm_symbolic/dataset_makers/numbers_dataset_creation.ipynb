{
 "cells": [
  {
   "cell_type": "markdown",
   "metadata": {},
   "source": [
    "Load in the values"
   ]
  },
  {
   "cell_type": "code",
   "execution_count": 3,
   "metadata": {},
   "outputs": [],
   "source": [
    "import pandas as pd\n",
    "number_templates = pd.read_json('../templates/number_templates.jsonl', lines=True)\n",
    "number_templates = number_templates.head(20)"
   ]
  },
  {
   "cell_type": "markdown",
   "metadata": {},
   "source": [
    "Helper function to query openai"
   ]
  },
  {
   "cell_type": "code",
   "execution_count": 4,
   "metadata": {},
   "outputs": [],
   "source": [
    "import os\n",
    "from openai import OpenAI\n",
    "import pandas as pd\n",
    "import json\n",
    "\n",
    "# set prompt\n",
    "with open('prompt_files/fill_in_numbers_prompt.txt', 'r') as file:\n",
    "    system_prompt = file.read()\n",
    "\n",
    "suffix = \"\\n\\nYour output should strictly be a json object mapping the inputs to outputs. It should be in the format of {variable1: value, variable2: value, ...}\"\n",
    "\n",
    "# get API key\n",
    "with open('prompt_files/openai_key.txt', 'r') as file:\n",
    "    API_KEY = file.read().strip()\n",
    "\n",
    "def get_variables(target_question, API_KEY = API_KEY, prompt = system_prompt, suffix = suffix):\n",
    "  os.environ[\"OPENAI_API_KEY\"] = API_KEY\n",
    "  client = OpenAI()\n",
    "  response = client.chat.completions.create(\n",
    "      model=\"gpt-4o-mini\",\n",
    "      messages=[\n",
    "          {\"role\": \"system\", \"content\": prompt},\n",
    "          {\"role\": \"user\", \"content\": target_question + suffix},\n",
    "      ]\n",
    "  )\n",
    "  answer = response.choices[0].message.content\n",
    "  return answer"
   ]
  },
  {
   "cell_type": "code",
   "execution_count": 5,
   "metadata": {},
   "outputs": [],
   "source": [
    "def valid_output(constraints, vars):\n",
    "    keys = vars.keys()\n",
    "    # go in this order to avoid partial matching of future keys\n",
    "    sorted_keys = sorted(keys, key=lambda x: len(x), reverse=True)\n",
    "    for constraint in constraints:\n",
    "        original_constraint = constraint\n",
    "        for key in sorted_keys:\n",
    "            constraint = constraint.replace(key, str(vars[key]))\n",
    "        if not eval(constraint):\n",
    "            print(\"Failed constraint: \", original_constraint, \"with\", constraint)\n",
    "            return False\n",
    "    return True"
   ]
  },
  {
   "cell_type": "code",
   "execution_count": 6,
   "metadata": {},
   "outputs": [],
   "source": [
    "def replace_vars(query, answer, vars):\n",
    "    for key in vars:\n",
    "        query = query.replace('{' + key + '}', str(vars[key]))\n",
    "        answer = answer.replace('{' + key + '}', str(vars[key]))\n",
    "        # answer = answer.replace(key, str(vars[key]))\n",
    "    return query, answer"
   ]
  },
  {
   "cell_type": "markdown",
   "metadata": {},
   "source": [
    "## Toy Example"
   ]
  },
  {
   "cell_type": "code",
   "execution_count": 55,
   "metadata": {},
   "outputs": [
    {
     "name": "stdout",
     "output_type": "stream",
     "text": [
      "{'a': 10, 'b': 3, 'c': 2, 'd': 5, 'e': 5, 'f': 25, 'x': 10, 'y': 3, 'z': 2}\n"
     ]
    }
   ],
   "source": [
    "query = str(number_templates.iloc[0].to_dict())\n",
    "vars = get_variables(query)\n",
    "vars = json.loads(vars)\n",
    "print(vars)"
   ]
  },
  {
   "cell_type": "code",
   "execution_count": 56,
   "metadata": {},
   "outputs": [
    {
     "data": {
      "text/plain": [
       "True"
      ]
     },
     "execution_count": 56,
     "metadata": {},
     "output_type": "execute_result"
    }
   ],
   "source": [
    "valid_output(number_templates.iloc[0]['constraints'], vars)"
   ]
  },
  {
   "cell_type": "code",
   "execution_count": 57,
   "metadata": {},
   "outputs": [
    {
     "data": {
      "text/plain": [
       "(\"Janet’s ducks lay 10 eggs per day. Janet eats 3 for breakfast every morning and bakes muffins for her friends every day with 2. Janet sells the remainder at the farmers' market daily for $5 per fresh duck egg. How much in dollars does Janet make every day at the farmers' market?\",\n",
       " 'Janet sells 10 - 3 - 2 = <<10 - 3 - 2 = 5>>e duck eggs a day.\\nShe makes 5 * 5 = $<<5 * 5 = 25>>f every day at the farmer’s market.\\n#### 25')"
      ]
     },
     "execution_count": 57,
     "metadata": {},
     "output_type": "execute_result"
    }
   ],
   "source": [
    "replace_vars(number_templates.iloc[0]['question'], number_templates.iloc[0]['answer'], vars)"
   ]
  },
  {
   "cell_type": "markdown",
   "metadata": {},
   "source": [
    "## Execute on all samples"
   ]
  },
  {
   "cell_type": "markdown",
   "metadata": {},
   "source": [
    "#### Debugging Stuff"
   ]
  },
  {
   "cell_type": "code",
   "execution_count": 69,
   "metadata": {},
   "outputs": [
    {
     "data": {
      "text/plain": [
       "{'a': 20, 'b': 25, 'c': 20}"
      ]
     },
     "execution_count": 69,
     "metadata": {},
     "output_type": "execute_result"
    }
   ],
   "source": [
    "vars"
   ]
  },
  {
   "cell_type": "code",
   "execution_count": 42,
   "metadata": {},
   "outputs": [
    {
     "data": {
      "text/plain": [
       "['a > 0',\n",
       " 'b > 0',\n",
       " 'x > 0',\n",
       " 'y > 0',\n",
       " 'p1 == a * (x / 100)',\n",
       " 'p2 == b * (y / 100)',\n",
       " 'max_profit == max(p1, p2)']"
      ]
     },
     "execution_count": 42,
     "metadata": {},
     "output_type": "execute_result"
    }
   ],
   "source": [
    "number_templates.iloc[i]['constraints']"
   ]
  },
  {
   "cell_type": "code",
   "execution_count": 43,
   "metadata": {},
   "outputs": [
    {
     "ename": "NameError",
     "evalue": "name 'm10020' is not defined",
     "output_type": "error",
     "traceback": [
      "\u001b[0;31m---------------------------------------------------------------------------\u001b[0m",
      "\u001b[0;31mNameError\u001b[0m                                 Traceback (most recent call last)",
      "\u001b[0;32m<ipython-input-43-3885912609cc>\u001b[0m in \u001b[0;36m<module>\u001b[0;34m\u001b[0m\n\u001b[0;32m----> 1\u001b[0;31m \u001b[0mvalid_output\u001b[0m\u001b[0;34m(\u001b[0m\u001b[0mnumber_templates\u001b[0m\u001b[0;34m.\u001b[0m\u001b[0miloc\u001b[0m\u001b[0;34m[\u001b[0m\u001b[0mi\u001b[0m\u001b[0;34m]\u001b[0m\u001b[0;34m[\u001b[0m\u001b[0;34m'constraints'\u001b[0m\u001b[0;34m]\u001b[0m\u001b[0;34m,\u001b[0m \u001b[0mvars\u001b[0m\u001b[0;34m)\u001b[0m\u001b[0;34m\u001b[0m\u001b[0;34m\u001b[0m\u001b[0m\n\u001b[0m",
      "\u001b[0;32m<ipython-input-3-4044e52e0dca>\u001b[0m in \u001b[0;36mvalid_output\u001b[0;34m(constraints, vars)\u001b[0m\n\u001b[1;32m      7\u001b[0m         \u001b[0;32mfor\u001b[0m \u001b[0mkey\u001b[0m \u001b[0;32min\u001b[0m \u001b[0msorted_keys\u001b[0m\u001b[0;34m:\u001b[0m\u001b[0;34m\u001b[0m\u001b[0;34m\u001b[0m\u001b[0m\n\u001b[1;32m      8\u001b[0m             \u001b[0mconstraint\u001b[0m \u001b[0;34m=\u001b[0m \u001b[0mconstraint\u001b[0m\u001b[0;34m.\u001b[0m\u001b[0mreplace\u001b[0m\u001b[0;34m(\u001b[0m\u001b[0mkey\u001b[0m\u001b[0;34m,\u001b[0m \u001b[0mstr\u001b[0m\u001b[0;34m(\u001b[0m\u001b[0mvars\u001b[0m\u001b[0;34m[\u001b[0m\u001b[0mkey\u001b[0m\u001b[0;34m]\u001b[0m\u001b[0;34m)\u001b[0m\u001b[0;34m)\u001b[0m\u001b[0;34m\u001b[0m\u001b[0;34m\u001b[0m\u001b[0m\n\u001b[0;32m----> 9\u001b[0;31m         \u001b[0;32mif\u001b[0m \u001b[0;32mnot\u001b[0m \u001b[0meval\u001b[0m\u001b[0;34m(\u001b[0m\u001b[0mconstraint\u001b[0m\u001b[0;34m)\u001b[0m\u001b[0;34m:\u001b[0m\u001b[0;34m\u001b[0m\u001b[0;34m\u001b[0m\u001b[0m\n\u001b[0m\u001b[1;32m     10\u001b[0m             \u001b[0mprint\u001b[0m\u001b[0;34m(\u001b[0m\u001b[0;34m\"Failed constraint: \"\u001b[0m\u001b[0;34m,\u001b[0m \u001b[0moriginal_constraint\u001b[0m\u001b[0;34m,\u001b[0m \u001b[0;34m\"with\"\u001b[0m\u001b[0;34m,\u001b[0m \u001b[0mconstraint\u001b[0m\u001b[0;34m)\u001b[0m\u001b[0;34m\u001b[0m\u001b[0;34m\u001b[0m\u001b[0m\n\u001b[1;32m     11\u001b[0m             \u001b[0;32mreturn\u001b[0m \u001b[0;32mFalse\u001b[0m\u001b[0;34m\u001b[0m\u001b[0;34m\u001b[0m\u001b[0m\n",
      "\u001b[0;32m<string>\u001b[0m in \u001b[0;36m<module>\u001b[0;34m\u001b[0m\n",
      "\u001b[0;31mNameError\u001b[0m: name 'm10020' is not defined"
     ]
    }
   ],
   "source": [
    "valid_output(number_templates.iloc[i]['constraints'], vars)"
   ]
  },
  {
   "cell_type": "code",
   "execution_count": 44,
   "metadata": {},
   "outputs": [
    {
     "data": {
      "text/plain": [
       "'If he purchases jewelry, he will make a profit of {x}% which is ${a}*({x}/100) = $<<{a}*({x}/100)={p1}>>{p1}\\nIf he purchases electronic gadgets, he will make a profit of {y}% which is ${b}*({y}/100) = $<<{b}*({y}/100)={p2}>>{p2}\\nIf he wants to maximize profit, since max({p1}, {p2}) determines the better choice, he will choose the option with the higher profit, thereby making a profit of ${max_profit}\\n#### {max_profit}'"
      ]
     },
     "execution_count": 44,
     "metadata": {},
     "output_type": "execute_result"
    }
   ],
   "source": [
    "number_templates.iloc[i]['answer']"
   ]
  },
  {
   "cell_type": "code",
   "execution_count": 45,
   "metadata": {},
   "outputs": [
    {
     "data": {
      "text/plain": [
       "('A merchant wants to make a choice of purchase between 2 purchase plans: jewelry worth $100 or electronic gadgets worth $150. His financial advisor speculates that the jewelry market will go up 20% while the electronic gadgets market will rise 30% within the same month. If the merchant is looking to maximize profit at the end of this month by making a choice, how much profit would this be?',\n",
       " 'If he purchases jewelry, he will make a profit of 20% which is $100*(20/100) = $<<100*(20/100)=20.0>>20.0\\nIf he purchases electronic gadgets, he will make a profit of 30% which is $150*(30/100) = $<<150*(30/100)=45.0>>45.0\\nIf he wants to maximize profit, since max(20.0, 45.0) determines the better choice, he will choose the option with the higher profit, thereby making a profit of $45.0\\n#### 45.0')"
      ]
     },
     "execution_count": 45,
     "metadata": {},
     "output_type": "execute_result"
    }
   ],
   "source": [
    "replace_vars(number_templates.iloc[i]['question'], number_templates.iloc[i]['answer'], vars)"
   ]
  },
  {
   "cell_type": "markdown",
   "metadata": {},
   "source": [
    "# Do runs"
   ]
  },
  {
   "cell_type": "code",
   "execution_count": 5,
   "metadata": {},
   "outputs": [],
   "source": [
    "completed_cache = set() # useful for debugging"
   ]
  },
  {
   "cell_type": "code",
   "execution_count": null,
   "metadata": {},
   "outputs": [
    {
     "name": "stdout",
     "output_type": "stream",
     "text": [
      "16\n",
      "17\n",
      "Failed constraint:  f > 0 with 0 > 0\n",
      "didn't meet constraints. retrying\n",
      "18\n",
      "Failed constraint:  c > 0 with 0 > 0\n",
      "didn't meet constraints. retrying\n",
      "Failed constraint:  c > 0 with 0 > 0\n",
      "didn't meet constraints. retrying\n",
      "19\n"
     ]
    }
   ],
   "source": [
    "max_retries = 10\n",
    "for i in range(len(number_templates)):\n",
    "    if i in completed_cache:\n",
    "        continue\n",
    "    print(i)\n",
    "    query = str(number_templates.iloc[i].to_dict())\n",
    "    num_retries = 0\n",
    "    while num_retries < max_retries:\n",
    "        vars = get_variables(query)\n",
    "        try:\n",
    "            vars = json.loads(vars.strip('```').replace('json', '').strip())\n",
    "        except:\n",
    "            print(\"invalid json. retrying\")\n",
    "            num_retries += 1\n",
    "            continue\n",
    "        if valid_output(number_templates.iloc[i]['constraints'], vars):\n",
    "            q, ans = replace_vars(number_templates.iloc[i]['question'], number_templates.iloc[i]['answer'], vars)\n",
    "            number_templates.iloc[i]['question'] = q\n",
    "            number_templates.iloc[i]['answer'] = ans\n",
    "            completed_cache.add(i)\n",
    "            break\n",
    "        else:\n",
    "            print(\"didn't meet constraints. retrying\")\n",
    "            num_retries += 1\n",
    "    if num_retries == max_retries:\n",
    "        print(\"Failed to generate valid output for template \" + str(i))\n",
    "number_templates.to_json('../datasets/gsm_numbers.jsonl', orient='records', lines=True)"
   ]
  },
  {
   "cell_type": "markdown",
   "metadata": {},
   "source": [
    "# Do 5 variations per question"
   ]
  },
  {
   "cell_type": "code",
   "execution_count": 19,
   "metadata": {},
   "outputs": [],
   "source": [
    "import numpy as np\n",
    "big_df = pd.DataFrame(np.repeat(number_templates.values, 5, axis=0))\n",
    "big_df.columns = number_templates.columns"
   ]
  },
  {
   "cell_type": "code",
   "execution_count": 20,
   "metadata": {},
   "outputs": [],
   "source": [
    "completed_cache = set() # useful for debugging"
   ]
  },
  {
   "cell_type": "code",
   "execution_count": null,
   "metadata": {},
   "outputs": [
    {
     "name": "stdout",
     "output_type": "stream",
     "text": [
      "0\n",
      "1\n",
      "2\n",
      "3\n",
      "4\n",
      "5\n",
      "6\n",
      "7\n",
      "8\n",
      "9\n",
      "10\n",
      "11\n",
      "12\n",
      "13\n",
      "14\n",
      "15\n",
      "Failed constraint:  f == c * n with 12 == 2 * 3\n",
      "didn't meet constraints. retrying\n",
      "16\n",
      "Failed constraint:  f == c * n with 12 == 2 * 3\n",
      "didn't meet constraints. retrying\n",
      "17\n",
      "18\n",
      "19\n",
      "20\n",
      "21\n",
      "22\n",
      "23\n",
      "24\n",
      "25\n",
      "26\n",
      "27\n",
      "28\n",
      "29\n",
      "30\n",
      "31\n",
      "32\n",
      "33\n",
      "34\n",
      "Failed constraint:  h % 1 == 0 with 17.5 % 1 == 0\n",
      "didn't meet constraints. retrying\n",
      "Failed constraint:  h % 1 == 0 with 11.5 % 1 == 0\n",
      "didn't meet constraints. retrying\n",
      "35\n",
      "36\n",
      "37\n",
      "38\n",
      "39\n",
      "40\n",
      "41\n",
      "42\n",
      "43\n",
      "44\n",
      "45\n",
      "46\n",
      "47\n",
      "48\n",
      "49\n",
      "50\n",
      "51\n",
      "52\n",
      "53\n",
      "54\n",
      "55\n",
      "Failed constraint:  a % f ==  0 with 100 % 15 ==  0\n",
      "didn't meet constraints. retrying\n",
      "Failed constraint:  a % f ==  0 with 100 % 30 ==  0\n",
      "didn't meet constraints. retrying\n",
      "56\n",
      "Failed constraint:  a % f ==  0 with 100 % 15 ==  0\n",
      "didn't meet constraints. retrying\n",
      "57\n",
      "Failed constraint:  a % f ==  0 with 40 % 15 ==  0\n",
      "didn't meet constraints. retrying\n",
      "58\n",
      "59\n",
      "60\n",
      "61\n",
      "Failed constraint:  f == d * g with 20 == 4 * 10\n",
      "didn't meet constraints. retrying\n",
      "62\n",
      "63\n",
      "64\n",
      "65\n",
      "66\n",
      "67\n",
      "68\n",
      "69\n",
      "70\n",
      "71\n",
      "72\n",
      "Failed constraint:  g == b * e with 1500 == 15 * 10\n",
      "didn't meet constraints. retrying\n",
      "Failed constraint:  f == a * d with 6000 == 15 * 40\n",
      "didn't meet constraints. retrying\n",
      "73\n",
      "74\n",
      "75\n",
      "Failed constraint:  d == a * 7 with 14 == 1 * 7\n",
      "didn't meet constraints. retrying\n",
      "Failed constraint:  d == a * 7 with 14 == 1 * 7\n",
      "didn't meet constraints. retrying\n",
      "76\n",
      "77\n",
      "78\n",
      "Failed constraint:  d == a * 7 with 14 == 1 * 7\n",
      "didn't meet constraints. retrying\n",
      "79\n",
      "80\n",
      "81\n",
      "82\n",
      "83\n",
      "Failed constraint:  i == h / g with 1 == 5 / 6\n",
      "didn't meet constraints. retrying\n",
      "84\n",
      "85\n",
      "86\n",
      "87\n",
      "Failed constraint:  f == c - e with 10 == 20 - 5\n",
      "didn't meet constraints. retrying\n",
      "88\n",
      "89\n",
      "90\n",
      "91\n",
      "92\n",
      "Failed constraint:  f == 2 * b with 8 == 2 * 2\n",
      "didn't meet constraints. retrying\n",
      "93\n",
      "Failed constraint:  f == 2 * b with 10 == 2 * 2\n",
      "didn't meet constraints. retrying\n",
      "Failed constraint:  f == 2 * b with 6 == 2 * 2\n",
      "didn't meet constraints. retrying\n",
      "94\n",
      "95\n",
      "96\n",
      "97\n",
      "98\n",
      "99\n"
     ]
    },
    {
     "ename": "OSError",
     "evalue": "Cannot save file into a non-existent directory: '../datasets'",
     "output_type": "error",
     "traceback": [
      "\u001b[0;31m---------------------------------------------------------------------------\u001b[0m",
      "\u001b[0;31mOSError\u001b[0m                                   Traceback (most recent call last)",
      "\u001b[0;32m/var/folders/rv/qqy952090m9_sb7tf61zzwt40000gn/T/ipykernel_48795/13002886.py\u001b[0m in \u001b[0;36m<module>\u001b[0;34m\u001b[0m\n\u001b[1;32m     25\u001b[0m     \u001b[0;32mif\u001b[0m \u001b[0mnum_retries\u001b[0m \u001b[0;34m==\u001b[0m \u001b[0mmax_retries\u001b[0m\u001b[0;34m:\u001b[0m\u001b[0;34m\u001b[0m\u001b[0;34m\u001b[0m\u001b[0m\n\u001b[1;32m     26\u001b[0m         \u001b[0mprint\u001b[0m\u001b[0;34m(\u001b[0m\u001b[0;34m\"Failed to generate valid output for template \"\u001b[0m \u001b[0;34m+\u001b[0m \u001b[0mstr\u001b[0m\u001b[0;34m(\u001b[0m\u001b[0mi\u001b[0m\u001b[0;34m)\u001b[0m\u001b[0;34m)\u001b[0m\u001b[0;34m\u001b[0m\u001b[0;34m\u001b[0m\u001b[0m\n\u001b[0;32m---> 27\u001b[0;31m \u001b[0mbig_df\u001b[0m\u001b[0;34m.\u001b[0m\u001b[0mto_json\u001b[0m\u001b[0;34m(\u001b[0m\u001b[0;34m'../datasets/gsm_numbers_100.jsonl'\u001b[0m\u001b[0;34m,\u001b[0m \u001b[0morient\u001b[0m\u001b[0;34m=\u001b[0m\u001b[0;34m'records'\u001b[0m\u001b[0;34m,\u001b[0m \u001b[0mlines\u001b[0m\u001b[0;34m=\u001b[0m\u001b[0;32mTrue\u001b[0m\u001b[0;34m)\u001b[0m\u001b[0;34m\u001b[0m\u001b[0;34m\u001b[0m\u001b[0m\n\u001b[0m",
      "\u001b[0;32m~/opt/anaconda3/lib/python3.9/site-packages/pandas/core/generic.py\u001b[0m in \u001b[0;36mto_json\u001b[0;34m(self, path_or_buf, orient, date_format, double_precision, force_ascii, date_unit, default_handler, lines, compression, index, indent, storage_options)\u001b[0m\n\u001b[1;32m   2648\u001b[0m         \u001b[0mindent\u001b[0m \u001b[0;34m=\u001b[0m \u001b[0mindent\u001b[0m \u001b[0;32mor\u001b[0m \u001b[0;36m0\u001b[0m\u001b[0;34m\u001b[0m\u001b[0;34m\u001b[0m\u001b[0m\n\u001b[1;32m   2649\u001b[0m \u001b[0;34m\u001b[0m\u001b[0m\n\u001b[0;32m-> 2650\u001b[0;31m         return json.to_json(\n\u001b[0m\u001b[1;32m   2651\u001b[0m             \u001b[0mpath_or_buf\u001b[0m\u001b[0;34m=\u001b[0m\u001b[0mpath_or_buf\u001b[0m\u001b[0;34m,\u001b[0m\u001b[0;34m\u001b[0m\u001b[0;34m\u001b[0m\u001b[0m\n\u001b[1;32m   2652\u001b[0m             \u001b[0mobj\u001b[0m\u001b[0;34m=\u001b[0m\u001b[0mself\u001b[0m\u001b[0;34m,\u001b[0m\u001b[0;34m\u001b[0m\u001b[0;34m\u001b[0m\u001b[0m\n",
      "\u001b[0;32m~/opt/anaconda3/lib/python3.9/site-packages/pandas/io/json/_json.py\u001b[0m in \u001b[0;36mto_json\u001b[0;34m(path_or_buf, obj, orient, date_format, double_precision, force_ascii, date_unit, default_handler, lines, compression, index, indent, storage_options)\u001b[0m\n\u001b[1;32m    176\u001b[0m     \u001b[0;32mif\u001b[0m \u001b[0mpath_or_buf\u001b[0m \u001b[0;32mis\u001b[0m \u001b[0;32mnot\u001b[0m \u001b[0;32mNone\u001b[0m\u001b[0;34m:\u001b[0m\u001b[0;34m\u001b[0m\u001b[0;34m\u001b[0m\u001b[0m\n\u001b[1;32m    177\u001b[0m         \u001b[0;31m# apply compression and byte/text conversion\u001b[0m\u001b[0;34m\u001b[0m\u001b[0;34m\u001b[0m\u001b[0m\n\u001b[0;32m--> 178\u001b[0;31m         with get_handle(\n\u001b[0m\u001b[1;32m    179\u001b[0m             \u001b[0mpath_or_buf\u001b[0m\u001b[0;34m,\u001b[0m \u001b[0;34m\"w\"\u001b[0m\u001b[0;34m,\u001b[0m \u001b[0mcompression\u001b[0m\u001b[0;34m=\u001b[0m\u001b[0mcompression\u001b[0m\u001b[0;34m,\u001b[0m \u001b[0mstorage_options\u001b[0m\u001b[0;34m=\u001b[0m\u001b[0mstorage_options\u001b[0m\u001b[0;34m\u001b[0m\u001b[0;34m\u001b[0m\u001b[0m\n\u001b[1;32m    180\u001b[0m         ) as handles:\n",
      "\u001b[0;32m~/opt/anaconda3/lib/python3.9/site-packages/pandas/io/common.py\u001b[0m in \u001b[0;36mget_handle\u001b[0;34m(path_or_buf, mode, encoding, compression, memory_map, is_text, errors, storage_options)\u001b[0m\n\u001b[1;32m    732\u001b[0m     \u001b[0;31m# Only for write methods\u001b[0m\u001b[0;34m\u001b[0m\u001b[0;34m\u001b[0m\u001b[0m\n\u001b[1;32m    733\u001b[0m     \u001b[0;32mif\u001b[0m \u001b[0;34m\"r\"\u001b[0m \u001b[0;32mnot\u001b[0m \u001b[0;32min\u001b[0m \u001b[0mmode\u001b[0m \u001b[0;32mand\u001b[0m \u001b[0mis_path\u001b[0m\u001b[0;34m:\u001b[0m\u001b[0;34m\u001b[0m\u001b[0;34m\u001b[0m\u001b[0m\n\u001b[0;32m--> 734\u001b[0;31m         \u001b[0mcheck_parent_directory\u001b[0m\u001b[0;34m(\u001b[0m\u001b[0mstr\u001b[0m\u001b[0;34m(\u001b[0m\u001b[0mhandle\u001b[0m\u001b[0;34m)\u001b[0m\u001b[0;34m)\u001b[0m\u001b[0;34m\u001b[0m\u001b[0;34m\u001b[0m\u001b[0m\n\u001b[0m\u001b[1;32m    735\u001b[0m \u001b[0;34m\u001b[0m\u001b[0m\n\u001b[1;32m    736\u001b[0m     \u001b[0;32mif\u001b[0m \u001b[0mcompression\u001b[0m\u001b[0;34m:\u001b[0m\u001b[0;34m\u001b[0m\u001b[0;34m\u001b[0m\u001b[0m\n",
      "\u001b[0;32m~/opt/anaconda3/lib/python3.9/site-packages/pandas/io/common.py\u001b[0m in \u001b[0;36mcheck_parent_directory\u001b[0;34m(path)\u001b[0m\n\u001b[1;32m    595\u001b[0m     \u001b[0mparent\u001b[0m \u001b[0;34m=\u001b[0m \u001b[0mPath\u001b[0m\u001b[0;34m(\u001b[0m\u001b[0mpath\u001b[0m\u001b[0;34m)\u001b[0m\u001b[0;34m.\u001b[0m\u001b[0mparent\u001b[0m\u001b[0;34m\u001b[0m\u001b[0;34m\u001b[0m\u001b[0m\n\u001b[1;32m    596\u001b[0m     \u001b[0;32mif\u001b[0m \u001b[0;32mnot\u001b[0m \u001b[0mparent\u001b[0m\u001b[0;34m.\u001b[0m\u001b[0mis_dir\u001b[0m\u001b[0;34m(\u001b[0m\u001b[0;34m)\u001b[0m\u001b[0;34m:\u001b[0m\u001b[0;34m\u001b[0m\u001b[0;34m\u001b[0m\u001b[0m\n\u001b[0;32m--> 597\u001b[0;31m         \u001b[0;32mraise\u001b[0m \u001b[0mOSError\u001b[0m\u001b[0;34m(\u001b[0m\u001b[0;34mrf\"Cannot save file into a non-existent directory: '{parent}'\"\u001b[0m\u001b[0;34m)\u001b[0m\u001b[0;34m\u001b[0m\u001b[0;34m\u001b[0m\u001b[0m\n\u001b[0m\u001b[1;32m    598\u001b[0m \u001b[0;34m\u001b[0m\u001b[0m\n\u001b[1;32m    599\u001b[0m \u001b[0;34m\u001b[0m\u001b[0m\n",
      "\u001b[0;31mOSError\u001b[0m: Cannot save file into a non-existent directory: '../datasets'"
     ]
    }
   ],
   "source": [
    "max_retries = 10\n",
    "for i in range(len(big_df)):\n",
    "    if i in completed_cache:\n",
    "        continue\n",
    "    print(i)\n",
    "    query = str(big_df.iloc[i].to_dict())\n",
    "    num_retries = 0\n",
    "    while num_retries < max_retries:\n",
    "        vars = get_variables(query)\n",
    "        try:\n",
    "            vars = json.loads(vars.strip('```').replace('json', '').strip())\n",
    "        except:\n",
    "            print(\"invalid json. retrying\")\n",
    "            num_retries += 1\n",
    "            continue\n",
    "        if valid_output(big_df.iloc[i]['constraints'], vars):\n",
    "            q, ans = replace_vars(big_df.iloc[i]['question'], big_df.iloc[i]['answer'], vars)\n",
    "            big_df.iloc[i]['question'] = q\n",
    "            big_df.iloc[i]['answer'] = ans\n",
    "            completed_cache.add(i)\n",
    "            break\n",
    "        else:\n",
    "            print(\"didn't meet constraints. retrying\")\n",
    "            num_retries += 1\n",
    "    if num_retries == max_retries:\n",
    "        print(\"Failed to generate valid output for template \" + str(i))\n",
    "big_df.to_json('../data/gsm_numbers_100.jsonl', orient='records', lines=True)"
   ]
  }
 ],
 "metadata": {
  "kernelspec": {
   "display_name": "base",
   "language": "python",
   "name": "python3"
  },
  "language_info": {
   "codemirror_mode": {
    "name": "ipython",
    "version": 3
   },
   "file_extension": ".py",
   "mimetype": "text/x-python",
   "name": "python",
   "nbconvert_exporter": "python",
   "pygments_lexer": "ipython3",
   "version": "3.9.13"
  }
 },
 "nbformat": 4,
 "nbformat_minor": 2
}
