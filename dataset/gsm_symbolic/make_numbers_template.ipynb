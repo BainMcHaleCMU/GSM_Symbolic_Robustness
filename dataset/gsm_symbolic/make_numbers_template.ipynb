{
 "cells": [
  {
   "cell_type": "markdown",
   "metadata": {},
   "source": [
    "## Make GSM Names Template\n",
    "We made a file that has the names and numbers masked out. This code will go through and fill in the names with the orignal names from unedited_100.jsonl, allowing us to run GSM Numbers independent of GSM Names."
   ]
  },
  {
   "cell_type": "markdown",
   "metadata": {},
   "source": [
    "Note the make_mapping makes the assumption that there is not going to be two variabilized portions back to back without a space. So if there is something like \"{person1}{person2}\", it would create an error. I found that this was never the case, so I ignored that edge case as it greatly simplified the code to do so."
   ]
  },
  {
   "cell_type": "code",
   "execution_count": 36,
   "metadata": {},
   "outputs": [],
   "source": [
    "import re\n",
    "\n",
    "def make_mapping(var_str, filled_str):\n",
    "    mapping = {}\n",
    "    parts = re.split(r'(\\{[^}]+\\})', var_str)\n",
    "    filled_str_i = 0\n",
    "    for part_i in range(len(parts)):\n",
    "        # make mapping\n",
    "        if parts[part_i].startswith('{'):\n",
    "            # find next section in filled_str\n",
    "            next_part = parts[part_i+1]\n",
    "            next_part_i = filled_str.find(next_part, filled_str_i)\n",
    "            if parts[part_i] not in mapping:\n",
    "                mapping[parts[part_i]] = filled_str[filled_str_i:next_part_i]\n",
    "            filled_str_i = next_part_i\n",
    "        else:\n",
    "            # skip over this section\n",
    "            filled_str_i += len(parts[part_i])\n",
    "    return mapping"
   ]
  },
  {
   "cell_type": "code",
   "execution_count": 35,
   "metadata": {},
   "outputs": [],
   "source": [
    "import pandas as pd\n",
    "\n",
    "need_filling_data = pd.read_json('templates/name_number_templates.json')\n",
    "name_templates = pd.read_json('templates/name_templates.jsonl', lines=True)\n",
    "orig_data = pd.read_json('datasets/unedited_100.jsonl', lines=True)\n",
    "\n",
    "# Get the first 20 values from the DataFrame\n",
    "json_data = need_filling_data.head(20)\n",
    "\n",
    "for i in range(len(json_data)):\n",
    "    var_str = name_templates.iloc[i]['question']\n",
    "    filled_str = orig_data.iloc[i]['question']\n",
    "    mapping = make_mapping(var_str, filled_str)\n",
    "    for key in mapping:\n",
    "        need_filling_data.iloc[i]['question'] = need_filling_data.iloc[i]['question'].replace(key, mapping[key])\n",
    "        need_filling_data.iloc[i]['answer'] = need_filling_data.iloc[i]['answer'].replace(key, mapping[key])\n",
    "need_filling_data.to_json('templates/number_templates.jsonl', orient='records', lines=True)"
   ]
  }
 ],
 "metadata": {
  "kernelspec": {
   "display_name": "Python 3",
   "language": "python",
   "name": "python3"
  },
  "language_info": {
   "codemirror_mode": {
    "name": "ipython",
    "version": 3
   },
   "file_extension": ".py",
   "mimetype": "text/x-python",
   "name": "python",
   "nbconvert_exporter": "python",
   "pygments_lexer": "ipython3",
   "version": "3.11.4"
  }
 },
 "nbformat": 4,
 "nbformat_minor": 2
}
