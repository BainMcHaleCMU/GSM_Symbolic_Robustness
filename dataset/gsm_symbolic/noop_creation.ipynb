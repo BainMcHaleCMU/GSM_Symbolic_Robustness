{
 "cells": [
  {
   "cell_type": "code",
   "execution_count": 9,
   "metadata": {
    "executionInfo": {
     "elapsed": 136,
     "status": "ok",
     "timestamp": 1732931035836,
     "user": {
      "displayName": "Shamika Dhuri",
      "userId": "12251149766036151772"
     },
     "user_tz": 300
    },
    "id": "44OTwqiFshUf"
   },
   "outputs": [],
   "source": [
    "with open('openai_key.txt', 'r') as file:\n",
    "    API_KEY = file.read().strip()"
   ]
  },
  {
   "cell_type": "code",
   "execution_count": 1,
   "metadata": {
    "executionInfo": {
     "elapsed": 129,
     "status": "ok",
     "timestamp": 1732935485505,
     "user": {
      "displayName": "Shamika Dhuri",
      "userId": "12251149766036151772"
     },
     "user_tz": 300
    },
    "id": "Di_hNdmqtNWu"
   },
   "outputs": [],
   "source": [
    "import os\n",
    "from openai import OpenAI\n",
    "import pandas as pd"
   ]
  },
  {
   "cell_type": "code",
   "execution_count": 5,
   "metadata": {
    "colab": {
     "base_uri": "https://localhost:8080/"
    },
    "executionInfo": {
     "elapsed": 117,
     "status": "ok",
     "timestamp": 1732934972864,
     "user": {
      "displayName": "Shamika Dhuri",
      "userId": "12251149766036151772"
     },
     "user_tz": 300
    },
    "id": "y49cDTAvs4xm",
    "outputId": "6e8ff360-7813-49fb-fee5-0ed46d49cf87"
   },
   "outputs": [],
   "source": [
    "#get prompt from prompt.txt\n",
    "with open('noop_prompt.txt', 'r') as f:\n",
    "    system_prompt = f.read()\n",
    "\n",
    "original_questions = pd.read_json('datasets/unedited_100.jsonl', lines=True)"
   ]
  },
  {
   "cell_type": "code",
   "execution_count": null,
   "metadata": {
    "executionInfo": {
     "elapsed": 117,
     "status": "ok",
     "timestamp": 1732934978263,
     "user": {
      "displayName": "Shamika Dhuri",
      "userId": "12251149766036151772"
     },
     "user_tz": 300
    },
    "id": "I63l-XmCtPj7"
   },
   "outputs": [
    {
     "ename": "NameError",
     "evalue": "name 'prompt' is not defined",
     "output_type": "error",
     "traceback": [
      "\u001b[0;31m---------------------------------------------------------------------------\u001b[0m",
      "\u001b[0;31mNameError\u001b[0m                                 Traceback (most recent call last)",
      "\u001b[0;32m<ipython-input-11-06f0a9807b54>\u001b[0m in \u001b[0;36m<module>\u001b[0;34m\u001b[0m\n\u001b[0;32m----> 1\u001b[0;31m \u001b[0;32mdef\u001b[0m \u001b[0mget_num_annotated\u001b[0m\u001b[0;34m(\u001b[0m\u001b[0mtarget_question\u001b[0m\u001b[0;34m,\u001b[0m \u001b[0mAPI_KEY\u001b[0m \u001b[0;34m=\u001b[0m \u001b[0mAPI_KEY\u001b[0m\u001b[0;34m,\u001b[0m \u001b[0mprompt\u001b[0m \u001b[0;34m=\u001b[0m \u001b[0mprompt\u001b[0m\u001b[0;34m)\u001b[0m\u001b[0;34m:\u001b[0m\u001b[0;34m\u001b[0m\u001b[0;34m\u001b[0m\u001b[0m\n\u001b[0m\u001b[1;32m      2\u001b[0m   \u001b[0mos\u001b[0m\u001b[0;34m.\u001b[0m\u001b[0menviron\u001b[0m\u001b[0;34m[\u001b[0m\u001b[0;34m\"OPENAI_API_KEY\"\u001b[0m\u001b[0;34m]\u001b[0m \u001b[0;34m=\u001b[0m \u001b[0mAPI_KEY\u001b[0m\u001b[0;34m\u001b[0m\u001b[0;34m\u001b[0m\u001b[0m\n\u001b[1;32m      3\u001b[0m   \u001b[0mclient\u001b[0m \u001b[0;34m=\u001b[0m \u001b[0mOpenAI\u001b[0m\u001b[0;34m(\u001b[0m\u001b[0;34m)\u001b[0m\u001b[0;34m\u001b[0m\u001b[0;34m\u001b[0m\u001b[0m\n\u001b[1;32m      4\u001b[0m   response = client.chat.completions.create(\n\u001b[1;32m      5\u001b[0m       \u001b[0mmodel\u001b[0m\u001b[0;34m=\u001b[0m\u001b[0;34m\"gpt-4o-mini\"\u001b[0m\u001b[0;34m,\u001b[0m\u001b[0;34m\u001b[0m\u001b[0;34m\u001b[0m\u001b[0m\n",
      "\u001b[0;31mNameError\u001b[0m: name 'prompt' is not defined"
     ]
    }
   ],
   "source": [
    "def get_num_annotated(target_question, API_KEY = API_KEY, prompt = system_prompt):\n",
    "  os.environ[\"OPENAI_API_KEY\"] = API_KEY\n",
    "  client = OpenAI()\n",
    "  response = client.chat.completions.create(\n",
    "      model=\"gpt-4o-mini\",\n",
    "      messages=[\n",
    "          {\"role\": \"system\", \"content\": prompt},\n",
    "          {\"role\": \"user\", \"content\": 'Target Question: ' + target_question},\n",
    "      ]\n",
    "  )\n",
    "  return(response.choices[0].message.content)"
   ]
  },
  {
   "cell_type": "code",
   "execution_count": null,
   "metadata": {
    "executionInfo": {
     "elapsed": 473990,
     "status": "ok",
     "timestamp": 1732936135464,
     "user": {
      "displayName": "Shamika Dhuri",
      "userId": "12251149766036151772"
     },
     "user_tz": 300
    },
    "id": "VG1ZIOgX99jp"
   },
   "outputs": [],
   "source": [
    "with open(\"annotated_100_nums.jsonl\", \"w\") as f:\n",
    "    for i in range(len(original_questions)):\n",
    "        target_question = original_questions.iloc[i]['question']\n",
    "        annotated = get_num_annotated(target_question)\n",
    "        f.write(annotated+\"\\n\")"
   ]
  }
 ],
 "metadata": {
  "colab": {
   "authorship_tag": "ABX9TyP9Eqs8yabaofZyIyWoDkYA",
   "provenance": []
  },
  "kernelspec": {
   "display_name": "Python 3",
   "name": "python3"
  },
  "language_info": {
   "codemirror_mode": {
    "name": "ipython",
    "version": 3
   },
   "file_extension": ".py",
   "mimetype": "text/x-python",
   "name": "python",
   "nbconvert_exporter": "python",
   "pygments_lexer": "ipython3",
   "version": "3.11.4"
  }
 },
 "nbformat": 4,
 "nbformat_minor": 0
}
