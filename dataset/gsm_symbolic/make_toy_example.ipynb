{
 "cells": [
  {
   "cell_type": "code",
   "execution_count": 53,
   "metadata": {},
   "outputs": [],
   "source": [
    "import pandas as pd\n",
    "import numpy as np\n",
    "import json\n",
    "templates = pd.read_json('annotated_100.jsonl', lines=True)\n",
    "fillable_vals = json.load(open('tags.json'))\n"
   ]
  },
  {
   "cell_type": "code",
   "execution_count": 54,
   "metadata": {},
   "outputs": [
    {
     "name": "stdout",
     "output_type": "stream",
     "text": [
      "{person1}’s ducks lay 16 eggs per day. {person1} eats three for breakfast every morning and bakes muffins for her friends every day with four. {person1} sells the remainder at the farmers' market daily for {currencysymbol1}2 per fresh duck egg. How much in dollars does {person1} make every day at the farmers' market?\n"
     ]
    }
   ],
   "source": [
    "for q in templates['question']:\n",
    "    print(q)\n",
    "    break"
   ]
  },
  {
   "cell_type": "markdown",
   "metadata": {},
   "source": [
    "# Update Templates with Random Values"
   ]
  },
  {
   "cell_type": "markdown",
   "metadata": {},
   "source": [
    "## Update person names"
   ]
  },
  {
   "cell_type": "code",
   "execution_count": 55,
   "metadata": {},
   "outputs": [],
   "source": [
    "for i in range(len(templates['question'])):\n",
    "    # there are at most 5 people\n",
    "    names = np.random.choice(fillable_vals['persons'], 5, replace=False)\n",
    "    q = templates['question'][i]\n",
    "    for j in range(1, 6):\n",
    "        tag  = '{person' + str(j) + '}'\n",
    "        q = q.replace(tag, names[j-1])\n",
    "    templates['question'][i] = q"
   ]
  },
  {
   "cell_type": "markdown",
   "metadata": {},
   "source": [
    "## Update places"
   ]
  },
  {
   "cell_type": "code",
   "execution_count": 57,
   "metadata": {},
   "outputs": [],
   "source": [
    "for i in range(len(templates['question'])):\n",
    "    # there are at most 3 places\n",
    "    names = np.random.choice(fillable_vals['places'], 3, replace=False)\n",
    "    q = templates['question'][i]\n",
    "    for j in range(1, 4):\n",
    "        tag  = '{place' + str(j) + '}'\n",
    "        q = q.replace(tag, names[j-1])\n",
    "    templates['question'][i] = q"
   ]
  },
  {
   "cell_type": "markdown",
   "metadata": {},
   "source": [
    "## Update foods"
   ]
  },
  {
   "cell_type": "code",
   "execution_count": 60,
   "metadata": {},
   "outputs": [],
   "source": [
    "for i in range(len(templates['question'])):\n",
    "    # there are at most 4 foods\n",
    "    names = np.random.choice(fillable_vals['foods'], 4, replace=False)\n",
    "    q = templates['question'][i]\n",
    "    for j in range(1, 5):\n",
    "        tag  = '{food' + str(j) + '}'\n",
    "        q = q.replace(tag, names[j-1])\n",
    "    templates['question'][i] = q"
   ]
  },
  {
   "cell_type": "markdown",
   "metadata": {},
   "source": [
    "## Update Currencies"
   ]
  },
  {
   "cell_type": "code",
   "execution_count": 62,
   "metadata": {},
   "outputs": [],
   "source": [
    "for i in range(len(templates['question'])):\n",
    "    # there are at most 4 foods\n",
    "    names = np.random.choice(fillable_vals['foods'], 1, replace=False)\n",
    "    q = templates['question'][i]\n",
    "    for j in range(1, 2):\n",
    "        tag  = '{currencysymbol' + str(j) + '}'\n",
    "        q = q.replace(tag, names[j-1])\n",
    "    templates['question'][i] = q"
   ]
  },
  {
   "cell_type": "markdown",
   "metadata": {},
   "source": [
    "# Export"
   ]
  },
  {
   "cell_type": "code",
   "execution_count": 65,
   "metadata": {},
   "outputs": [],
   "source": [
    "templates.to_json('gsm_names.jsonl', orient='records', lines=True)"
   ]
  }
 ],
 "metadata": {
  "kernelspec": {
   "display_name": "Python 3",
   "language": "python",
   "name": "python3"
  },
  "language_info": {
   "codemirror_mode": {
    "name": "ipython",
    "version": 3
   },
   "file_extension": ".py",
   "mimetype": "text/x-python",
   "name": "python",
   "nbconvert_exporter": "python",
   "pygments_lexer": "ipython3",
   "version": "3.11.4"
  }
 },
 "nbformat": 4,
 "nbformat_minor": 2
}
